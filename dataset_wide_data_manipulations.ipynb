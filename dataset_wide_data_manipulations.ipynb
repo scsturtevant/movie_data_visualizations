{
 "cells": [
  {
   "cell_type": "code",
   "execution_count": 1,
   "metadata": {},
   "outputs": [],
   "source": [
    "import pandas as pd\n",
    "import random\n",
    "import os\n",
    "os.environ['KMP_DUPLICATE_LIB_OK']='True'\n",
    "\n",
    "def fixDFcolsForR(myDF):\n",
    "    for i in range(myDF.shape[1]): # for each col\n",
    "        if myDF.iloc[:, i].dtype == 'O': # check if col is type object\n",
    "            myDF.iloc[:, i] = myDF.iloc[:, i].astype(str) # if yes set type to string\n",
    "    return myDF"
   ]
  },
  {
   "cell_type": "markdown",
   "metadata": {},
   "source": [
    "# Overal Data SetManipulations"
   ]
  },
  {
   "cell_type": "markdown",
   "metadata": {},
   "source": [
    "How we used this first notebook that we iterated/cleaned on the csvs here, and then saved it to a github repo. From there we could independently pull/push our cleaned and merged datasets"
   ]
  },
  {
   "cell_type": "code",
   "execution_count": 2,
   "metadata": {},
   "outputs": [
    {
     "name": "stderr",
     "output_type": "stream",
     "text": [
      "/Users/nickparker/anaconda3/lib/python3.7/site-packages/IPython/core/interactiveshell.py:3049: DtypeWarning: Columns (10) have mixed types. Specify dtype option on import or set low_memory=False.\n",
      "  interactivity=interactivity, compiler=compiler, result=result)\n"
     ]
    }
   ],
   "source": [
    "meta = pd.read_csv('./the-movies-dataset-clean/movies_metadata.csv')"
   ]
  },
  {
   "cell_type": "markdown",
   "metadata": {},
   "source": [
    "# Column Math"
   ]
  },
  {
   "cell_type": "code",
   "execution_count": 3,
   "metadata": {},
   "outputs": [],
   "source": [
    "### Adding profit and use of Budget Columns\n",
    "meta['profit'] = meta['revenue'] - pd.to_numeric(meta['budget'],errors='coerce')\n",
    "meta['useOfBudget'] = meta['revenue'] / (pd.to_numeric(meta['budget'],errors='coerce') + 000.1)"
   ]
  },
  {
   "cell_type": "markdown",
   "metadata": {},
   "source": [
    "# Splitting Columns with multiple values"
   ]
  },
  {
   "cell_type": "code",
   "execution_count": 4,
   "metadata": {},
   "outputs": [],
   "source": [
    "#This function takes in a column which contains a dictionary\n",
    "#It splits it by the elements of the dict into n new columsn columns\n",
    "#example: \n",
    "#genre[0]=[{'name':'mystery'},{'name':'thriller'}] --> genre_1[0] = 'mystery', genre_2 = 'thriller' \n",
    "def splitDict(df, colToSplit, n):   \n",
    "    for i in range(n):\n",
    "        newCol = []\n",
    "        for rowNum in range(df.shape[0]):\n",
    "            try: \n",
    "                newCol.append(ast.literal_eval(df[colToSplit][rowNum])[i]['name'])\n",
    "            except:\n",
    "                newCol.append('nan')\n",
    "        newColName = colToSplit + '_'+ str(i+1)\n",
    "        df[newColName] = newCol\n",
    "    df = df.drop(colToSplit,axis = 1)\n",
    "    return df"
   ]
  },
  {
   "cell_type": "code",
   "execution_count": 5,
   "metadata": {},
   "outputs": [
    {
     "data": {
      "text/plain": [
       "Index(['adult', 'belongs_to_collection', 'budget', 'homepage', 'id', 'imdb_id',\n",
       "       'original_language', 'original_title', 'overview', 'popularity',\n",
       "       'poster_path', 'production_countries', 'release_date', 'revenue',\n",
       "       'runtime', 'spoken_languages', 'status', 'tagline', 'title', 'video',\n",
       "       'vote_average', 'vote_count', 'profit', 'useOfBudget',\n",
       "       'production_companies_1', 'production_companies_2',\n",
       "       'production_companies_3', 'production_companies_4',\n",
       "       'production_companies_5', 'production_companies_6', 'genres_1',\n",
       "       'genres_2', 'genres_3'],\n",
       "      dtype='object')"
      ]
     },
     "execution_count": 5,
     "metadata": {},
     "output_type": "execute_result"
    }
   ],
   "source": [
    "meta = splitDict(meta, 'production_companies', 6)\n",
    "meta = splitDict(meta, 'genres', 3)\n",
    "meta.columns"
   ]
  },
  {
   "cell_type": "markdown",
   "metadata": {},
   "source": [
    "## Merging"
   ]
  },
  {
   "cell_type": "code",
   "execution_count": 6,
   "metadata": {},
   "outputs": [],
   "source": [
    "#Here we add two more datasets\n",
    "#ratings, contains 26 millions reviews\n",
    "ratings = pd.read_csv('./the-movies-dataset-clean/ratings.csv')\n",
    "#links is a helpful dataset with movie id's and imdb id's\n",
    "links = pd.read_csv('./the-movies-dataset-clean/links.csv')\n",
    "\n",
    "#First we aggregate ratings by movie\n",
    "ratings = ratings.groupby('movieId').agg({'rating':['mean','count']}).reset_index() #gets average rating\n",
    "ratings.columns = ['movieId','rating','rateCounts']\n",
    "#Then we merge the ratings onto links\n",
    "linkAvgRating = pd.merge(links,ratings,on='movieId',how='left')\n",
    "\n",
    "#Then we standardized the merge column (imdbID) and merge it together\n",
    "meta['imdbId'] = pd.to_numeric(meta['imdb_id'].str[2:])\n",
    "meta = pd.merge(meta,linkAvgRating,on='imdbId',how='left')"
   ]
  },
  {
   "cell_type": "markdown",
   "metadata": {},
   "source": [
    "## Making Flops dataframe"
   ]
  },
  {
   "cell_type": "code",
   "execution_count": 7,
   "metadata": {},
   "outputs": [
    {
     "name": "stderr",
     "output_type": "stream",
     "text": [
      "/Users/nickparker/anaconda3/lib/python3.7/site-packages/ipykernel_launcher.py:4: SettingWithCopyWarning: \n",
      "A value is trying to be set on a copy of a slice from a DataFrame.\n",
      "Try using .loc[row_indexer,col_indexer] = value instead\n",
      "\n",
      "See the caveats in the documentation: http://pandas.pydata.org/pandas-docs/stable/indexing.html#indexing-view-versus-copy\n",
      "  after removing the cwd from sys.path.\n",
      "/Users/nickparker/anaconda3/lib/python3.7/site-packages/pandas/core/indexing.py:543: SettingWithCopyWarning: \n",
      "A value is trying to be set on a copy of a slice from a DataFrame.\n",
      "Try using .loc[row_indexer,col_indexer] = value instead\n",
      "\n",
      "See the caveats in the documentation: http://pandas.pydata.org/pandas-docs/stable/indexing.html#indexing-view-versus-copy\n",
      "  self.obj[item] = s\n"
     ]
    }
   ],
   "source": [
    "#Since revenue and budget are such important columns to us,\n",
    "#We remove columns with missing values (0 is an illogical budget)\n",
    "flop = meta.loc[((meta['revenue'] > 0) & pd.to_numeric(meta['budget'],errors='coerce' != 0))]\n",
    "flop['flop'] = 0\n",
    "flop.loc[(flop['profit'] < 0),'flop'] = 1"
   ]
  },
  {
   "cell_type": "markdown",
   "metadata": {},
   "source": [
    "## Making the df longer based on genre"
   ]
  },
  {
   "cell_type": "code",
   "execution_count": 8,
   "metadata": {},
   "outputs": [],
   "source": [
    "#Here we do the equivelent of melt by making the df long to wide  for genre\n",
    "long_df_genre = pd.wide_to_long(flop.reset_index(), \n",
    "                          i=['index'], \n",
    "                          j='genreNo',\n",
    "                          stubnames='genres',\n",
    "                          sep=\"_\")\n",
    "long_df_genre.reset_index(inplace=True)"
   ]
  },
  {
   "cell_type": "markdown",
   "metadata": {},
   "source": [
    "## Making the df longer based on prod company"
   ]
  },
  {
   "cell_type": "code",
   "execution_count": 9,
   "metadata": {},
   "outputs": [
    {
     "data": {
      "text/plain": [
       "(32286, 34)"
      ]
     },
     "execution_count": 9,
     "metadata": {},
     "output_type": "execute_result"
    }
   ],
   "source": [
    "#We do the same for production company\n",
    "long_df_prod = pd.wide_to_long(flop.reset_index(), \n",
    "                          i=['index'], \n",
    "                          j='companyNo',\n",
    "                          stubnames='production_companies',\n",
    "                          sep=\"_\")\n",
    "long_df_prod.shape"
   ]
  },
  {
   "cell_type": "code",
   "execution_count": 10,
   "metadata": {},
   "outputs": [
    {
     "data": {
      "text/plain": [
       "Index(['movieId', 'original_language', 'production_countries', 'useOfBudget',\n",
       "       'genres_3', 'status', 'flop', 'budget', 'tmdbId', 'release_date',\n",
       "       'tagline', 'vote_count', 'vote_average', 'id', 'spoken_languages',\n",
       "       'adult', 'title', 'genres_1', 'overview', 'profit', 'runtime', 'video',\n",
       "       'popularity', 'poster_path', 'genres_2', 'rateCounts',\n",
       "       'belongs_to_collection', 'imdbId', 'revenue', 'imdb_id',\n",
       "       'original_title', 'rating', 'homepage', 'production_companies'],\n",
       "      dtype='object')"
      ]
     },
     "execution_count": 10,
     "metadata": {},
     "output_type": "execute_result"
    }
   ],
   "source": [
    "long_df_prod.columns"
   ]
  },
  {
   "cell_type": "code",
   "execution_count": 11,
   "metadata": {},
   "outputs": [
    {
     "data": {
      "text/html": [
       "<div>\n",
       "<style scoped>\n",
       "    .dataframe tbody tr th:only-of-type {\n",
       "        vertical-align: middle;\n",
       "    }\n",
       "\n",
       "    .dataframe tbody tr th {\n",
       "        vertical-align: top;\n",
       "    }\n",
       "\n",
       "    .dataframe thead th {\n",
       "        text-align: right;\n",
       "    }\n",
       "</style>\n",
       "<table border=\"1\" class=\"dataframe\">\n",
       "  <thead>\n",
       "    <tr style=\"text-align: right;\">\n",
       "      <th></th>\n",
       "      <th>title</th>\n",
       "      <th>id</th>\n",
       "      <th>companyNo</th>\n",
       "      <th>production_companies</th>\n",
       "    </tr>\n",
       "  </thead>\n",
       "  <tbody>\n",
       "    <tr>\n",
       "      <th>17079</th>\n",
       "      <td>Lock, Stock and Two Smoking Barrels</td>\n",
       "      <td>100</td>\n",
       "      <td>4</td>\n",
       "      <td>SKA Films</td>\n",
       "    </tr>\n",
       "    <tr>\n",
       "      <th>22460</th>\n",
       "      <td>Lock, Stock and Two Smoking Barrels</td>\n",
       "      <td>100</td>\n",
       "      <td>5</td>\n",
       "      <td>The Steve Tisch Company</td>\n",
       "    </tr>\n",
       "    <tr>\n",
       "      <th>11698</th>\n",
       "      <td>Lock, Stock and Two Smoking Barrels</td>\n",
       "      <td>100</td>\n",
       "      <td>3</td>\n",
       "      <td>PolyGram Filmed Entertainment</td>\n",
       "    </tr>\n",
       "    <tr>\n",
       "      <th>27841</th>\n",
       "      <td>Lock, Stock and Two Smoking Barrels</td>\n",
       "      <td>100</td>\n",
       "      <td>6</td>\n",
       "      <td>nan</td>\n",
       "    </tr>\n",
       "    <tr>\n",
       "      <th>6317</th>\n",
       "      <td>Lock, Stock and Two Smoking Barrels</td>\n",
       "      <td>100</td>\n",
       "      <td>2</td>\n",
       "      <td>Summit Entertainment</td>\n",
       "    </tr>\n",
       "    <tr>\n",
       "      <th>936</th>\n",
       "      <td>Lock, Stock and Two Smoking Barrels</td>\n",
       "      <td>100</td>\n",
       "      <td>1</td>\n",
       "      <td>Handmade Films Ltd.</td>\n",
       "    </tr>\n",
       "  </tbody>\n",
       "</table>\n",
       "</div>"
      ],
      "text/plain": [
       "                                     title   id  companyNo  \\\n",
       "17079  Lock, Stock and Two Smoking Barrels  100          4   \n",
       "22460  Lock, Stock and Two Smoking Barrels  100          5   \n",
       "11698  Lock, Stock and Two Smoking Barrels  100          3   \n",
       "27841  Lock, Stock and Two Smoking Barrels  100          6   \n",
       "6317   Lock, Stock and Two Smoking Barrels  100          2   \n",
       "936    Lock, Stock and Two Smoking Barrels  100          1   \n",
       "\n",
       "                production_companies  \n",
       "17079                      SKA Films  \n",
       "22460        The Steve Tisch Company  \n",
       "11698  PolyGram Filmed Entertainment  \n",
       "27841                            nan  \n",
       "6317            Summit Entertainment  \n",
       "936              Handmade Films Ltd.  "
      ]
     },
     "execution_count": 11,
     "metadata": {},
     "output_type": "execute_result"
    }
   ],
   "source": [
    "#checking it split correctly\n",
    "long_df_prod.reset_index(inplace=True)\n",
    "\n",
    "display = long_df_prod[['title','id','companyNo','production_companies']]\n",
    "\n",
    "display.sort_values('id').head(6)"
   ]
  },
  {
   "cell_type": "markdown",
   "metadata": {},
   "source": [
    "# Export"
   ]
  },
  {
   "cell_type": "markdown",
   "metadata": {},
   "source": [
    "#### When we are done with the data manipulation, we saved it as csv in our Github and were able to work from there"
   ]
  },
  {
   "cell_type": "code",
   "execution_count": 12,
   "metadata": {},
   "outputs": [],
   "source": [
    "#export_csv = meta.to_csv (r'movie_dataset_edited/meta.csv', header=True)\n",
    "#Don't forget to add '.csv' at the end of the path"
   ]
  },
  {
   "cell_type": "code",
   "execution_count": 13,
   "metadata": {},
   "outputs": [],
   "source": [
    "#export_csv = flop.to_csv (r'movie_dataset_edited/flopDataSet.csv', header=True)\n"
   ]
  },
  {
   "cell_type": "code",
   "execution_count": 14,
   "metadata": {},
   "outputs": [],
   "source": [
    "#export_csv = long_df_genre.to_csv (r'movie_dataset_edited/flopTripleByGenre.csv', header=True)\n"
   ]
  }
 ],
 "metadata": {
  "kernelspec": {
   "display_name": "Python 3",
   "language": "python",
   "name": "python3"
  },
  "language_info": {
   "codemirror_mode": {
    "name": "ipython",
    "version": 3
   },
   "file_extension": ".py",
   "mimetype": "text/x-python",
   "name": "python",
   "nbconvert_exporter": "python",
   "pygments_lexer": "ipython3",
   "version": "3.7.3"
  }
 },
 "nbformat": 4,
 "nbformat_minor": 2
}
